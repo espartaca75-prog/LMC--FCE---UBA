{
  "nbformat": 4,
  "nbformat_minor": 0,
  "metadata": {
    "colab": {
      "provenance": [],
      "toc_visible": true,
      "authorship_tag": "ABX9TyN53iRDxAFjfRGvGQT2D5tl",
      "include_colab_link": true
    },
    "kernelspec": {
      "name": "python3",
      "display_name": "Python 3"
    },
    "language_info": {
      "name": "python"
    }
  },
  "cells": [
    {
      "cell_type": "markdown",
      "metadata": {
        "id": "view-in-github",
        "colab_type": "text"
      },
      "source": [
        "<a href=\"https://colab.research.google.com/github/espartaca75-prog/LMC--FCE---UBA/blob/main/7_Programaci%C3%B3n_lineal_en_Python.ipynb\" target=\"_parent\"><img src=\"https://colab.research.google.com/assets/colab-badge.svg\" alt=\"Open In Colab\"/></a>"
      ]
    },
    {
      "cell_type": "markdown",
      "source": [
        "**Laboratorio de métodos cuantitativos aplicados a la Gestión**\n",
        "\n",
        "---\n",
        "\n",
        "\n",
        "Clase 7- Programación lineal en Python"
      ],
      "metadata": {
        "id": "u9m7MMDMi5Ro"
      }
    },
    {
      "cell_type": "markdown",
      "source": [
        "¿Qué vamos a poder hacer?\n",
        "\n",
        "🧮 Resolver problemas de optimización organizacional\n",
        "\n",
        "🧩 Formular modelos para objetivos empresariales e interpretar soluciones óptimas.\n"
      ],
      "metadata": {
        "id": "l6gmHl2oLA2C"
      }
    },
    {
      "cell_type": "code",
      "source": [
        "#importamos las librerías que vamos a usar en esta ocasión\n",
        "import numpy as np\n",
        "from scipy.optimize import linprog\n",
        "import matplotlib.pyplot as plt\n",
        "!pip install Pulp\n",
        "import pulp"
      ],
      "metadata": {
        "id": "oaJ4w7ZQ23bM",
        "colab": {
          "base_uri": "https://localhost:8080/"
        },
        "outputId": "0ff83d3c-7581-4d01-f9cc-3409f1364770"
      },
      "execution_count": null,
      "outputs": [
        {
          "output_type": "stream",
          "name": "stdout",
          "text": [
            "Collecting Pulp\n",
            "  Downloading pulp-3.2.2-py3-none-any.whl.metadata (6.9 kB)\n",
            "Downloading pulp-3.2.2-py3-none-any.whl (16.4 MB)\n",
            "\u001b[2K   \u001b[90m━━━━━━━━━━━━━━━━━━━━━━━━━━━━━━━━━━━━━━━━\u001b[0m \u001b[32m16.4/16.4 MB\u001b[0m \u001b[31m64.3 MB/s\u001b[0m eta \u001b[36m0:00:00\u001b[0m\n",
            "\u001b[?25hInstalling collected packages: Pulp\n",
            "Successfully installed Pulp-3.2.2\n"
          ]
        }
      ]
    },
    {
      "cell_type": "markdown",
      "source": [
        "**Repaso**:\n",
        "\n",
        "En cualquier empresa, muchas de las decisiones que se toman tienen por objeto hacer el mejor uso posible (optimización) de los recursos de la misma.\n",
        "🤔 Por recursos de una empresa entendemos la maquinaria que ésta posea, sus trabajadores, capital financiero, instalaciones y materias primas.  Tales recursos pueden ser usados para fabricar productos o servicios.\n",
        "\n",
        "**La Programación Lineal es un modelo matemático diseñado para ayudar en la planificación y toma de decisiones referentes a la asignación de los recursos.**\n",
        "\n",
        "▶ En cada problema de programación lineal se deben tomar decisiones de maximización o minimización de objetivos representados por funciones lineales, las cuales están sujetas a determinadas condiciones llamadas restricciones, que se representan a través de ecuaciones y/o desigualdades también lineales.\n",
        "\n",
        "Ejemplo: Si una compañía produce cuatro bienes diferentes, la dirección puede usar Programación Lineal para determinar las cantidades de recursos que asigna a la producción de cada uno de ellos (podría optar por hacer una asignación ponderada, dedicar todos los recursos a la producción de un único bien abandonando la producción del resto, etc.).  \n",
        "\n",
        "\n",
        "En el CBC aprendimos el método Simplex y también un método gráfico. Vamos a ver qué herramientas nos provee este lenguaje de programación para optimizar."
      ],
      "metadata": {
        "id": "QqwRD7HRNNbW"
      }
    },
    {
      "cell_type": "markdown",
      "source": [
        "# Linprog"
      ],
      "metadata": {
        "id": "UyBxGLW34FI9"
      }
    },
    {
      "cell_type": "markdown",
      "source": [
        "▶La librería Scipy tiene la función Linprog que resuleve problemas de optimización."
      ],
      "metadata": {
        "id": "XkH-sMj04VX5"
      }
    },
    {
      "cell_type": "markdown",
      "source": [
        "Supongamos que queremos minimizar la siguiente función: $2x_1+2x_2$ sujeta a $x_1=x_2/3$ y $x_1+x_2=20$"
      ],
      "metadata": {
        "id": "lBYOqTiHk6L5"
      }
    },
    {
      "cell_type": "code",
      "source": [
        "#los argumentos esenciales de la función linprog son\n",
        "c= [2,2] #acá los coeficientes de la función objetivo\n",
        "A= [[1, -1/3],\n",
        "    [1,1]] #acá los coeficientes de las restricciones. en este caso un vector fila porque hay una sola restricción\n",
        "b= [0,20]  #acá las constantes de las restricciones\n",
        "res= linprog(c, A, b)\n",
        "res"
      ],
      "metadata": {
        "colab": {
          "base_uri": "https://localhost:8080/"
        },
        "id": "Env3JaBBk5pC",
        "outputId": "abcb23c3-6019-447a-e3d0-503b0da37483"
      },
      "execution_count": null,
      "outputs": [
        {
          "output_type": "execute_result",
          "data": {
            "text/plain": [
              "       message: Optimization terminated successfully. (HiGHS Status 7: Optimal)\n",
              "       success: True\n",
              "        status: 0\n",
              "           fun: 0.0\n",
              "             x: [ 0.000e+00  0.000e+00]\n",
              "           nit: 0\n",
              "         lower:  residual: [ 0.000e+00  0.000e+00]\n",
              "                marginals: [ 2.000e+00  2.000e+00]\n",
              "         upper:  residual: [       inf        inf]\n",
              "                marginals: [ 0.000e+00  0.000e+00]\n",
              "         eqlin:  residual: []\n",
              "                marginals: []\n",
              "       ineqlin:  residual: [ 0.000e+00  2.000e+01]\n",
              "                marginals: [-0.000e+00 -0.000e+00]"
            ]
          },
          "metadata": {},
          "execution_count": 2
        }
      ]
    },
    {
      "cell_type": "markdown",
      "source": [
        "## Caso 1"
      ],
      "metadata": {
        "id": "ZwIMM9LH5Eqc"
      }
    },
    {
      "cell_type": "markdown",
      "source": [
        "Una fábrica produce dos productos, $x_1$ y\n",
        "$𝑥_2$\n",
        "\n",
        "La empresa quiere maximizar la cantidad total producida, es decir:\n",
        "\n",
        "Maximizar\n",
        "$𝑍=𝑥_1+x_2$\n",
        "\n",
        "Sin embargo, enfrenta dos restricciones:\n",
        "\n",
        "Cada producto $x_1$\tconsume 2 horas de máquina A y cada producto $𝑥_2$ consume 1 hora de máquina A. Solo hay 100 horas disponibles de máquina A.\n",
        "\n",
        "Cada producto $𝑥_1$ consume 1 hora de máquina B y cada producto $x_2$ consume 1 hora de máquina B. Solo hay 80 horas disponibles de máquina B."
      ],
      "metadata": {
        "id": "BDmZ1h3yOeBH"
      }
    },
    {
      "cell_type": "code",
      "execution_count": null,
      "metadata": {
        "id": "kbMcFxvOANak",
        "colab": {
          "base_uri": "https://localhost:8080/"
        },
        "outputId": "69e0432e-e15d-4429-f513-4769f56c0b1a"
      },
      "outputs": [
        {
          "output_type": "execute_result",
          "data": {
            "text/plain": [
              "        message: Optimization terminated successfully. (HiGHS Status 7: Optimal)\n",
              "        success: True\n",
              "         status: 0\n",
              "            fun: -80.0\n",
              "              x: [ 0.000e+00  8.000e+01]\n",
              "            nit: 2\n",
              "          lower:  residual: [ 0.000e+00  8.000e+01]\n",
              "                 marginals: [ 0.000e+00  0.000e+00]\n",
              "          upper:  residual: [       inf        inf]\n",
              "                 marginals: [ 0.000e+00  0.000e+00]\n",
              "          eqlin:  residual: []\n",
              "                 marginals: []\n",
              "        ineqlin:  residual: [ 2.000e+01  0.000e+00]\n",
              "                 marginals: [-0.000e+00 -1.000e+00]\n",
              " mip_node_count: 0\n",
              " mip_dual_bound: 0.0\n",
              "        mip_gap: 0.0"
            ]
          },
          "metadata": {},
          "execution_count": 3
        }
      ],
      "source": [
        "#queremos maximizar: Z = x1 + x2\n",
        "#restricciones:\n",
        "#   2x1 + x2 <= 100  (horas de máquina)\n",
        "#   x1 + x2 <= 80    (materia prima)\n",
        "#   x1, x2 >= 0\n",
        "\n",
        "#linprog minimiza, entonces usamos coef negativos\n",
        "c = [-1, -1]\n",
        "A = [[2, 1],\n",
        "     [1, 1]]\n",
        "b = [100, 80]\n",
        "\n",
        "res = linprog(c, A, b, bounds=(0, None))\n",
        "res"
      ]
    },
    {
      "cell_type": "code",
      "source": [
        "print(\"Producción óptima de x1:\", res.x[0])\n",
        "print(\"Producción óptima de x2:\", res.x[1])\n",
        "print(\"Producción máxima:\", -res.fun)"
      ],
      "metadata": {
        "id": "5dutLjnqYHYJ",
        "colab": {
          "base_uri": "https://localhost:8080/"
        },
        "outputId": "3b66b5e0-4742-4642-c74c-5c97c4063e50"
      },
      "execution_count": null,
      "outputs": [
        {
          "output_type": "stream",
          "name": "stdout",
          "text": [
            "Producción óptima de x1: 0.0\n",
            "Producción óptima de x2: 80.0\n",
            "Producción máxima: 80.0\n"
          ]
        }
      ]
    },
    {
      "cell_type": "markdown",
      "source": [
        "## Caso 2"
      ],
      "metadata": {
        "id": "zfCdFSTy-_69"
      }
    },
    {
      "cell_type": "markdown",
      "source": [
        "Una refinería de petróleo procesa dos tipos de crudo: A y B con la finalidad de producir gas oíl, lubricantes y kerosene. Las demandas de estos\n",
        "productos son al menos respectivamente 14, 10 y 8 toneladas por día.\n",
        "El crudo A tiene un rendimiento de 0,2 toneladas de gas oíl, 0,10 toneladas de lubricante y 0,16 toneladas de kerosene por cada tonelada de\n",
        "petróleo.\n",
        "Los rendimientos del crudo B son: 0,10 toneladas de gas oíl, 0,20 toneladas de lubricante y 0,10 toneladas de kerosene.\n",
        "\n",
        "\n",
        "*   Formular el modelo que permita determinar la capacidad mínima de la planta en toneladas por día de crudo a procesar.\n",
        "*   Determinar gráficamente el espacio de soluciones factibles.\n",
        "*   Determinar la cantidad de cada crudo a procesar y la capacidad mínima de la planta utilizando el método gráfico.\n",
        "\n",
        "\n"
      ],
      "metadata": {
        "id": "gXR7oFcP--3W"
      }
    },
    {
      "cell_type": "markdown",
      "source": [
        "Es un problema de minimización: queremos procesar lo mínimo de crudo (A y B) cumpliendo demandas mínimas.\n",
        "\n",
        "Objetivo:\n",
        "mín   $Z= x_A +x_B$\n",
        "\n",
        "Variables:\n",
        "$x_A,x_B \\geq 0$ (toneladas por día de crudo A y B.)\n",
        "\n",
        "Restricciones:\n",
        "\n",
        "$0.2x_A+0.1x_B \\geq 14 \\\\\n",
        "0.1x_A+ +0.2x_B \\geq 10\\\\\n",
        "0.16x_A+0.1x_B \\geq 8$\n"
      ],
      "metadata": {
        "id": "w6Nte7nmDc9q"
      }
    },
    {
      "cell_type": "code",
      "source": [
        "# Min Z = xA + xB\n",
        "c = [1, 1]\n",
        "\n",
        "#pasamos >= a <= multiplicando por -1\n",
        "A = [\n",
        "    [-0.20, -0.10],\n",
        "    [-0.10, -0.20],\n",
        "    [-0.16, -0.10],\n",
        "]\n",
        "b = [-14, -10, -8]\n",
        "\n",
        "res = linprog(c, A_ub=A, b_ub=b, bounds=(0, None), method=\"highs\")\n",
        "res"
      ],
      "metadata": {
        "id": "bQ8ofu0FINI_",
        "colab": {
          "base_uri": "https://localhost:8080/"
        },
        "outputId": "27405d04-719f-49ae-ce2c-7ed278bdc2cb"
      },
      "execution_count": null,
      "outputs": [
        {
          "output_type": "execute_result",
          "data": {
            "text/plain": [
              "        message: Optimization terminated successfully. (HiGHS Status 7: Optimal)\n",
              "        success: True\n",
              "         status: 0\n",
              "            fun: 80.0\n",
              "              x: [ 6.000e+01  2.000e+01]\n",
              "            nit: 2\n",
              "          lower:  residual: [ 6.000e+01  2.000e+01]\n",
              "                 marginals: [ 0.000e+00  0.000e+00]\n",
              "          upper:  residual: [       inf        inf]\n",
              "                 marginals: [ 0.000e+00  0.000e+00]\n",
              "          eqlin:  residual: []\n",
              "                 marginals: []\n",
              "        ineqlin:  residual: [ 0.000e+00  0.000e+00  3.600e+00]\n",
              "                 marginals: [-3.333e+00 -3.333e+00 -0.000e+00]\n",
              " mip_node_count: 0\n",
              " mip_dual_bound: 0.0\n",
              "        mip_gap: 0.0"
            ]
          },
          "metadata": {},
          "execution_count": 5
        }
      ]
    },
    {
      "cell_type": "code",
      "source": [
        "print(\"Éxito:\", res.success)\n",
        "print(f\"xA óptimo: {res.x[0]:.2f} t/día\")\n",
        "print(f\"xB óptimo: {res.x[1]:.2f} t/día\")\n",
        "print(f\"Procesamiento mínimo (xA + xB): {res.fun:.2f} t/día\")"
      ],
      "metadata": {
        "id": "_u--EyGcIcB2",
        "colab": {
          "base_uri": "https://localhost:8080/"
        },
        "outputId": "2e2052db-cfab-42b4-e71f-da2530ad2081"
      },
      "execution_count": null,
      "outputs": [
        {
          "output_type": "stream",
          "name": "stdout",
          "text": [
            "Éxito: True\n",
            "xA óptimo: 60.00 t/día\n",
            "xB óptimo: 20.00 t/día\n",
            "Procesamiento mínimo (xA + xB): 80.00 t/día\n"
          ]
        }
      ]
    },
    {
      "cell_type": "code",
      "source": [
        "#rectas de las restricciones (en igualdad)\n",
        "xA = np.linspace(0, 120, 400)\n",
        "r1 = (14 - 0.20*xA)/0.10       # 0.20xA + 0.10xB = 14\n",
        "r2 = (10 - 0.10*xA)/0.20       # 0.10xA + 0.20xB = 10\n",
        "r3 = (8  - 0.16*xA)/0.10       # 0.16xA + 0.10xB = 8\n",
        "\n",
        "#región factible: por encima de cada recta y xB>=0\n",
        "xB_min = np.maximum.reduce([r1, r2, r3, np.zeros_like(xA)])\n",
        "\n",
        "#graficamos las rectas\n",
        "plt.figure(figsize=(7,5))\n",
        "plt.plot(xA, r1, label='Gas oíl = 14', color='green')\n",
        "plt.plot(xA, r2, label='Lubricantes = 10', color='red')\n",
        "plt.plot(xA, r3, label='Kerosene = 8',color='blue')\n",
        "\n",
        "#sombreamos región factible (donde xB >= xB_min y xB >= 0)\n",
        "plt.fill_between(xA, xB_min, 200, alpha=0.2)\n",
        "\n",
        "#punto óptimo\n",
        "plt.scatter([60],[20], s=100,color='black')\n",
        "plt.annotate(\"Óptimo (60, 20)\", (60,20), xytext=(85,25), arrowprops=dict(arrowstyle=\"->\"))\n",
        "\n",
        "plt.xlim(0,120); plt.ylim(0,120)\n",
        "plt.xlabel(\"xA (t/día)\"); plt.ylabel(\"xB (t/día)\")\n",
        "plt.title(\"Espacio factible y solución óptima\")\n",
        "plt.legend(); plt.grid(True)\n",
        "plt.show()\n"
      ],
      "metadata": {
        "id": "1MrB4-5CJCxH",
        "colab": {
          "base_uri": "https://localhost:8080/",
          "height": 488
        },
        "outputId": "fdc7f811-5d89-4570-b0be-0ac2870141e3"
      },
      "execution_count": null,
      "outputs": [
        {
          "output_type": "display_data",
          "data": {
            "text/plain": [
              "<Figure size 700x500 with 1 Axes>"
            ],
            "image/png": "[encoded data removed]"
          },
          "metadata": {}
        }
      ]
    },
    {
      "cell_type": "markdown",
      "source": [
        "# Pulp"
      ],
      "metadata": {
        "id": "wKk9Y6UTAUZY"
      }
    },
    {
      "cell_type": "markdown",
      "source": [
        "Una alternativa más flexible es la librería PuLP, que permite formular modelos de optimización de manera más clara (con nombres de variables y restricciones) y resolverlos con distintos solvers."
      ],
      "metadata": {
        "id": "TUfCCBtW_x0E"
      }
    },
    {
      "cell_type": "markdown",
      "source": [
        "Supongamos que queremos maximizar $3x+5y$ sujeta a $x+2y\\leq10$ y $2x+y\\leq12$"
      ],
      "metadata": {
        "id": "0UPs5iHRoa0G"
      }
    },
    {
      "cell_type": "code",
      "source": [
        "#definimos el problema\n",
        "prob = pulp.LpProblem(\"Problema\", pulp.LpMaximize)\n",
        "\n",
        "#definimos las variables de elección\n",
        "x = pulp.LpVariable('x')\n",
        "y = pulp.LpVariable('y')\n",
        "\n",
        "#definimos la función objetivo\n",
        "prob += 3*x + 5*y, \"Z\" #fijense que adicionamos algo a prob\n",
        "\n",
        "#adicionamos las restricciones\n",
        "prob += x + 2*y <= 10\n",
        "prob += 2*x + y <= 12\n",
        "\n",
        "#usamos la función solve\n",
        "prob.solve() #la salida de esto va a ser 1 si se encuentra algún óptimo\n",
        "\n"
      ],
      "metadata": {
        "colab": {
          "base_uri": "https://localhost:8080/"
        },
        "id": "oX6oW8AJouWf",
        "outputId": "d7151378-e96f-4a8f-da64-28239918d579"
      },
      "execution_count": null,
      "outputs": [
        {
          "output_type": "execute_result",
          "data": {
            "text/plain": [
              "1"
            ]
          },
          "metadata": {},
          "execution_count": 8
        }
      ]
    },
    {
      "cell_type": "code",
      "source": [
        "#resultados\n",
        "print(\"Estado:\", pulp.LpStatus[prob.status])\n",
        "print(\"Valor óptimo de x:\", x.varValue)\n",
        "print(\"Valor óptimo de y:\", y.varValue)\n",
        "print(\"Valor de la función objetivo Z:\", pulp.value(prob.objective))\n"
      ],
      "metadata": {
        "colab": {
          "base_uri": "https://localhost:8080/"
        },
        "id": "4EWZf0Xlp-i9",
        "outputId": "b9e63658-f07d-4e44-d836-15c640f42496"
      },
      "execution_count": null,
      "outputs": [
        {
          "output_type": "stream",
          "name": "stdout",
          "text": [
            "Estado: Optimal\n",
            "Valor óptimo de x: 4.6666667\n",
            "Valor óptimo de y: 2.6666667\n",
            "Valor de la función objetivo Z: 27.333333600000003\n"
          ]
        }
      ]
    },
    {
      "cell_type": "markdown",
      "source": [
        "## Caso 3"
      ],
      "metadata": {
        "id": "eDt9ectrklEH"
      }
    },
    {
      "cell_type": "markdown",
      "source": [
        "Una fábrica de equipos electrónicos construye amplificadores y altoparlantes. Debido a su capacidad puede construir hasta 100 unidades diarias en total. Una convención le obliga a exportar a otras provincias la mitad de los amplificadores que fabrica y la tercera parte de los altoparlantes, pero por un problema de transporte no puede exportar más de 40 unidades por día. Cada amplificador deja un beneficio de 50 pesos y cada altoparlante deja 60 pesos.\n",
        "* Plantear las restricciones y la función objetivo.  \n",
        "* Determinar qué producción de amplificadores y de altoparlantes maximiza el beneficio.\n",
        "* Graficar el modelo indicando el conjunto de soluciones factibles."
      ],
      "metadata": {
        "id": "_jZodjIQkFmG"
      }
    },
    {
      "cell_type": "markdown",
      "source": [
        "Vamos a maximizar la función de beneficio $Z= 50x +60y$ sujeta a\n",
        "* $x+y \\leq 100$ (capacidad)\n",
        "* $\\frac{1}{2}x+\\frac{1}{3}y\\leq40$ (exportación)\n",
        "* $x\\geq0,y\\geq0$"
      ],
      "metadata": {
        "id": "KwxEcsEL0kqD"
      }
    },
    {
      "cell_type": "code",
      "source": [
        "#definimos el problema\n",
        "prob = pulp.LpProblem(\"Caso 3\", pulp.LpMaximize)\n",
        "\n",
        "#definimos las variables de elección\n",
        "x = pulp.LpVariable('x')\n",
        "y = pulp.LpVariable('y')\n",
        "\n",
        "#definimos la función objetivo\n",
        "prob += 50*x + 60*y, \"Z\"\n",
        "\n",
        "#adicionamos las restricciones\n",
        "prob += x + y <= 100\n",
        "prob += 0.5*x + 1/3*y <= 40\n",
        "prob += x>=0\n",
        "prob += y>=0\n",
        "\n",
        "#resolvemos\n",
        "prob.solve()\n",
        "print(f'el beneficio máximo alcanzado es {pulp.value(prob.objective)} cuando se fabrican {x.varValue} amplificadores y {y.varValue} altoparlantes')\n"
      ],
      "metadata": {
        "colab": {
          "base_uri": "https://localhost:8080/"
        },
        "outputId": "86c8c9ff-db00-4cf2-fb27-6739803afb86",
        "id": "fNeziEhL5m6s"
      },
      "execution_count": null,
      "outputs": [
        {
          "output_type": "stream",
          "name": "stdout",
          "text": [
            "el beneficio máximo alcanzado es 6000.0 cuando se fabrican 0.0 amplificadores y 100.0 altoparlantes\n"
          ]
        },
        {
          "output_type": "stream",
          "name": "stderr",
          "text": [
            "/usr/local/lib/python3.12/dist-packages/pulp/pulp.py:1489: UserWarning: Spaces are not permitted in the name. Converted to '_'\n",
            "  warnings.warn(\"Spaces are not permitted in the name. Converted to '_'\")\n"
          ]
        }
      ]
    },
    {
      "cell_type": "markdown",
      "source": [
        "Vamos a visualizar la solución de esquina a la que hemos llegado en el gráfico del tercer inciso:"
      ],
      "metadata": {
        "id": "0-gCBRd0650i"
      }
    },
    {
      "cell_type": "code",
      "source": [
        "#rectas de frontera\n",
        "x = np.linspace(0, 100, 400)\n",
        "y_cap = 100 - x                       # x + y = 100\n",
        "y_exp = 120 - 1.5*x                   # 0.5x + (1/3)y = 40  => y = 120 - 1.5x\n",
        "\n",
        "#región factible: por debajo de ambas y en el 1er cuadrante\n",
        "y_factible = np.minimum(y_cap, y_exp)\n",
        "y_factible = np.maximum(y_factible, 0)\n",
        "\n",
        "plt.figure(figsize=(7,5))\n",
        "plt.plot(x, y_cap, label='x + y = 100')\n",
        "plt.plot(x, y_exp, label='0.5x + (1/3)y = 40')\n",
        "\n",
        "#sombreado\n",
        "plt.fill_between(x, 0, y_factible, alpha=0.2)\n",
        "\n",
        "#punto óptimo\n",
        "plt.scatter([0],[100], s=100,color='black')\n",
        "\n",
        "plt.xlim(0, 105); plt.ylim(0, 105)\n",
        "plt.xlabel('Amplificadores (x)')\n",
        "plt.ylabel('Altoparlantes (y)')\n",
        "plt.title('Conjunto de soluciones factibles')\n",
        "plt.legend(); plt.grid(True)\n",
        "plt.show()\n"
      ],
      "metadata": {
        "id": "Gba7FIDVj4tt",
        "colab": {
          "base_uri": "https://localhost:8080/",
          "height": 487
        },
        "outputId": "2b59e9e4-d73a-41ee-8623-efe9be7f98b0"
      },
      "execution_count": null,
      "outputs": [
        {
          "output_type": "display_data",
          "data": {
            "text/plain": [
              "<Figure size 700x500 with 1 Axes>"
            ],
            "image/png": "[encoded data removed]"
          },
          "metadata": {}
        }
      ]
    },
    {
      "cell_type": "markdown",
      "source": [
        "## Caso 4"
      ],
      "metadata": {
        "id": "TO_Tj7_h_wFB"
      }
    },
    {
      "cell_type": "markdown",
      "source": [
        "Vamos a adicionar variables de elección y restricciones.\n",
        "\n",
        "Una empresa agrícola produce trigo (x1), maíz (x2), soja (x3) y girasol (x4).\n",
        "Dispone de tres recursos limitados:\n",
        "\n",
        "* Tierra cultivable: 600 hectáreas.\n",
        "\n",
        "* Agua para riego: 1.200 m³.\n",
        "\n",
        "* Horas de trabajo: 1.000 horas\n",
        "\n",
        "Cada cultivo requiere:\n"
      ],
      "metadata": {
        "id": "ZZWIME6I_0DN"
      }
    },
    {
      "cell_type": "markdown",
      "source": [
        "| Cultivo     | Tierra (ha) | Agua (m³) | Trabajo (h) | Beneficio (\\$/unidad) |\n",
        "| ----------- | ----------- | --------- | ----------- | --------------------- |\n",
        "| Trigo (x1)  | 5           | 4         | 3           | 40                    |\n",
        "| Maíz (x2)   | 3           | 2         | 5           | 50                    |\n",
        "| Soja (x3)   | 2           | 5         | 2           | 60                    |\n",
        "| Girasol(x4) | 5           | 3         | 4           | 55                    |\n"
      ],
      "metadata": {
        "id": "Lw7aBszEBJ7p"
      }
    },
    {
      "cell_type": "markdown",
      "source": [
        "Restricciones:\n",
        "\n",
        "El uso total de tierra no puede superar las 600 ha.\n",
        "\n",
        "El uso total de agua no puede superar los 1.200 m³.\n",
        "\n",
        "El trabajo total no puede superar las 1.000 h.\n"
      ],
      "metadata": {
        "id": "2_qrFJJqBO0N"
      }
    },
    {
      "cell_type": "markdown",
      "source": [
        "Tenemos que maximizar el beneficio $Z=40x_1+50x_2+60x_3+55x_4$ sujeto a\n",
        "\n",
        "$5x_1 + 3x_2 + 2x_3 + 5x_4 \\leq 600\\\\\n",
        "4x_1 + 2x_2 + 5x_3 + 3x_4 \\leq 1200\\\\\n",
        "3x_1 + 5x_2 + 2x_3 + 4x_4 \\leq 1000$"
      ],
      "metadata": {
        "id": "HtzEOR03sVBM"
      }
    },
    {
      "cell_type": "code",
      "source": [
        "prob = pulp.LpProblem(\"Problema agro\", pulp.LpMaximize)\n",
        "\n",
        "#variables\n",
        "x1 = pulp.LpVariable(\"Trigo\", lowBound=0)\n",
        "x2 = pulp.LpVariable(\"Maiz\", lowBound=0)\n",
        "x3 = pulp.LpVariable(\"Soja\", lowBound=0)\n",
        "x4 = pulp.LpVariable(\"Girasol\", lowBound=0)\n",
        "\n",
        "#función objetivo\n",
        "prob += 40*x1 + 50*x2 + 60*x3 + 55*x4\n",
        "\n",
        "#restricciones\n",
        "prob += 5*x1 + 3*x2 + 2*x3 + 5*x4 <= 600\n",
        "prob += 4*x1 + 2*x2 + 5*x3 + 3*x4 <= 1200\n",
        "prob += 3*x1 + 5*x2 + 2*x3 + 4*x4 <= 1000\n",
        "\n",
        "#resolver\n",
        "prob.solve()\n",
        "\n",
        "#resultados\n",
        "print(\"Producción óptima:\")\n",
        "for v in prob.variables():\n",
        "    print(f\"{v.name} = {v.varValue}\")\n",
        "print(\"Beneficio máximo =\", pulp.value(prob.objective))\n"
      ],
      "metadata": {
        "colab": {
          "base_uri": "https://localhost:8080/"
        },
        "id": "4jP5RAoBt5ig",
        "outputId": "88bca80d-2429-415e-ef6a-39fd717ea511"
      },
      "execution_count": null,
      "outputs": [
        {
          "output_type": "stream",
          "name": "stdout",
          "text": [
            "Producción óptima:\n",
            "Girasol = 0.0\n",
            "Maiz = 54.545455\n",
            "Soja = 218.18182\n",
            "Trigo = 0.0\n",
            "Beneficio máximo = 15818.18195\n"
          ]
        }
      ]
    },
    {
      "cell_type": "markdown",
      "source": [
        "# 🥇 ⚡ 🤓 Hagamos un mini-solver que maximiza"
      ],
      "metadata": {
        "id": "qpCDPgDOxjKw"
      }
    },
    {
      "cell_type": "code",
      "source": [
        "print(\"⭐ Bienvenido al mini-solver de Programación Lineal ⭐\\n\")\n",
        "\n",
        "#tipo de problema\n",
        "tipo = input(\"¿Desea maximizar o minimizar la función objetivo? (max/min): \").strip().lower()\n",
        "\n",
        "#cantidad de variables y restricciones\n",
        "n_vars = int(input(\"Ingrese la cantidad de variables de decisión: \"))\n",
        "n_rest = int(input(\"Ingrese la cantidad de restricciones: \"))\n",
        "\n",
        "#coeficientes de la función objetivo\n",
        "print(\"\\nFunción objetivo: Z = c1*x1 + c2*x2 + ... + cn*xn\")\n",
        "c = []\n",
        "for i in range(n_vars):\n",
        "    coef = float(input(f\"Ingrese el coeficiente c{i+1}: \"))\n",
        "    c.append(coef)\n",
        "\n",
        "#ajuste según el tipo de problema\n",
        "if tipo == \"max\":\n",
        "    c = [-ci for ci in c]  #porque linprog solo minimiza!!!\n",
        "\n",
        "c = np.array(c)\n",
        "\n",
        "#restricciones\n",
        "A = []\n",
        "b = []\n",
        "print(\"\\nRestricciones (del tipo <=):\")\n",
        "for j in range(n_rest):\n",
        "    fila = []\n",
        "    for i in range(n_vars):\n",
        "        aij = float(input(f\"Coeficiente de x{i+1} en restricción {j+1}: \"))\n",
        "        fila.append(aij)\n",
        "    rhs = float(input(f\"Término independiente (lado derecho) de restricción {j+1}: \"))\n",
        "    A.append(fila)\n",
        "    b.append(rhs)\n",
        "\n",
        "A = np.array(A)\n",
        "b = np.array(b)\n",
        "\n",
        "#resolver\n",
        "res = linprog(c, A_ub=A, b_ub=b, bounds=[(0, None)]*n_vars, method=\"highs\")\n",
        "\n",
        "#resultados\n",
        "if res.success:\n",
        "    print(\"\\n✅ Resultado óptimo encontrado:\")\n",
        "    for i, val in enumerate(res.x):\n",
        "        print(f\"x{i+1} = {val:.2f}\")\n",
        "    if tipo == \"max\":\n",
        "        print(f\"Valor óptimo Z = {-res.fun:.2f}\")\n",
        "    else:\n",
        "        print(f\"Valor óptimo Z = {res.fun:.2f}\")\n",
        "else:\n",
        "    print(\"\\n⚠️ No se encontró una solución factible.\")\n"
      ],
      "metadata": {
        "colab": {
          "base_uri": "https://localhost:8080/"
        },
        "id": "UoN9JX-Byrlc",
        "outputId": "ce9e7e27-d9b3-4c65-d96d-9f3a929d0eeb"
      },
      "execution_count": null,
      "outputs": [
        {
          "output_type": "stream",
          "name": "stdout",
          "text": [
            "⭐ Bienvenido al mini-solver de Programación Lineal ⭐\n",
            "\n",
            "¿Desea maximizar o minimizar la función objetivo? (max/min): min\n",
            "Ingrese la cantidad de variables de decisión: 2\n",
            "Ingrese la cantidad de restricciones: 2\n",
            "\n",
            "Función objetivo: Z = c1*x1 + c2*x2 + ... + cn*xn\n",
            "Ingrese el coeficiente c1: 1\n",
            "Ingrese el coeficiente c2: 1\n",
            "\n",
            "Restricciones (del tipo <=):\n",
            "Coeficiente de x1 en restricción 1: 4\n",
            "Coeficiente de x2 en restricción 1: 2\n",
            "Término independiente (lado derecho) de restricción 1: 0\n",
            "Coeficiente de x1 en restricción 2: 2\n",
            "Coeficiente de x2 en restricción 2: 2\n",
            "Término independiente (lado derecho) de restricción 2: 6\n",
            "\n",
            "✅ Resultado óptimo encontrado:\n",
            "x1 = 0.00\n",
            "x2 = 0.00\n",
            "Valor óptimo Z = 0.00\n"
          ]
        }
      ]
    },
    {
      "cell_type": "markdown",
      "source": [
        "# Comparemos Pulp y Linprog"
      ],
      "metadata": {
        "id": "K_pVfe-JAJTl"
      }
    },
    {
      "cell_type": "markdown",
      "source": [
        "## 📊 Comparación entre `linprog` (SciPy) y `PuLP`\n",
        "\n",
        "| Aspecto | `linprog` (SciPy) | `PuLP` |\n",
        "|---------|------------------|--------|\n",
        "| **Enfoque** | Pensado para **resolver rápido** problemas de optimización. | Pensado para **formular modelos de forma clara** y cercana a la notación matemática. |\n",
        "| **Forma de uso** | Siempre **minimiza**, por lo que para maximizar hay que invertir el signo de la función objetivo. | Permite elegir **Maximize** o **Minimize** explícitamente. |\n",
        "| **Sintaxis** | Se trabaja con **listas/matrices** de coeficientes (más algebraico, menos intuitivo para principiantes). | Se trabaja con **objetos y restricciones declaradas** (más legible y didáctico). |\n",
        "| **Interpretación de resultados** | Retorna un objeto con atributos (ej. `res.x`, `res.fun`). | Las variables tienen valores asignados directamente (ej. `x.value()`). |\n",
        "\n"
      ],
      "metadata": {
        "id": "XPVu8HcTBkz3"
      }
    },
    {
      "cell_type": "markdown",
      "source": [
        "-Actividad propuesta:\n",
        "Una panadería produce pan y medialunas,\n",
        "Un pan requiere 1 hora de horno y 0.5h de mano de obra, una medialuna requiere 2 horas de horno y 1h de mano de obra. Disponibilidad: 160 horas de horno, 90h de mano de obra. Ganancias: 50 pesos el pan, 80 pesos la medialuna.\n",
        "* Encontrar el beneficio máximo.\n",
        "* Formular otro problema de optimización para una panadería que produce pan y medialunas y resolverlo, incluyendo un gráfico del conjunto de soluciones factibles.\n"
      ],
      "metadata": {
        "id": "FOtxNx70-WZU"
      }
    },
    {
      "cell_type": "markdown",
      "source": [
        "Fuentes:\n",
        "\n",
        "Notas de álgebra teórico-prácticas: cátedra de Álgebra / Alicia Delia Fraquelli;Andrea Leonor Gache. - 1a ed. - Ciudad Autónoma de Buenos Aires: Universidad de Buenos Aires. Facultad de Ciencias Económicas, 2019.\n",
        "\n",
        "Hilpisch, Y. (2018). Python for Finance: Mastering Data-Driven Finance (2nd ed.). O’Reilly Media.\n",
        "\n",
        "James, G., Witten, D., Hastie, T., Tibshirani, R., & Taylor, J. (2023). An Introduction to Statistical Learning: with Applications in Python. Springer."
      ],
      "metadata": {
        "id": "CJ1SxeA-mrqV"
      }
    }
  ]
}